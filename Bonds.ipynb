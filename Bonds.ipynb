{
 "cells": [
  {
   "cell_type": "code",
   "execution_count": 1,
   "id": "0a075b21-2360-4701-bce5-e1b4ca893c4e",
   "metadata": {},
   "outputs": [],
   "source": [
    "import pandas as pd\n",
    "import numpy as np"
   ]
  },
  {
   "cell_type": "code",
   "execution_count": 6,
   "id": "d8ea4690-3413-47f3-bbb3-1150aef93c84",
   "metadata": {},
   "outputs": [
    {
     "data": {
      "text/html": [
       "<div>\n",
       "<style scoped>\n",
       "    .dataframe tbody tr th:only-of-type {\n",
       "        vertical-align: middle;\n",
       "    }\n",
       "\n",
       "    .dataframe tbody tr th {\n",
       "        vertical-align: top;\n",
       "    }\n",
       "\n",
       "    .dataframe thead th {\n",
       "        text-align: right;\n",
       "    }\n",
       "</style>\n",
       "<table border=\"1\" class=\"dataframe\">\n",
       "  <thead>\n",
       "    <tr style=\"text-align: right;\">\n",
       "      <th></th>\n",
       "      <th>Sr No._x</th>\n",
       "      <th>Reference No  (URN)</th>\n",
       "      <th>Journal Date</th>\n",
       "      <th>Date of\\rPurchase</th>\n",
       "      <th>Date of Expiry</th>\n",
       "      <th>Name of the Purchaser</th>\n",
       "      <th>Prefix_x</th>\n",
       "      <th>Bond\\rNumber</th>\n",
       "      <th>Denominations</th>\n",
       "      <th>Issue Branch Code</th>\n",
       "      <th>Issue Teller</th>\n",
       "      <th>Status</th>\n",
       "      <th>Date of\\rEncashment</th>\n",
       "      <th>Name of the Political Party</th>\n",
       "      <th>Account no. of\\rPolitical Party</th>\n",
       "      <th>Pay Branch\\rCode</th>\n",
       "      <th>Pay Teller</th>\n",
       "    </tr>\n",
       "  </thead>\n",
       "  <tbody>\n",
       "    <tr>\n",
       "      <th>0</th>\n",
       "      <td>1</td>\n",
       "      <td>00001201904120000001166</td>\n",
       "      <td>12/Apr/2019</td>\n",
       "      <td>12/Apr/2019</td>\n",
       "      <td>26/Apr/2019</td>\n",
       "      <td>A B C INDIA LIMITED</td>\n",
       "      <td>TL</td>\n",
       "      <td>11448</td>\n",
       "      <td>10,00,000</td>\n",
       "      <td>1</td>\n",
       "      <td>5899230</td>\n",
       "      <td>Paid</td>\n",
       "      <td>25/Apr/2019</td>\n",
       "      <td>BHARATIYA JANATA PARTY</td>\n",
       "      <td>*******8244</td>\n",
       "      <td>691</td>\n",
       "      <td>3300196</td>\n",
       "    </tr>\n",
       "    <tr>\n",
       "      <th>1</th>\n",
       "      <td>2</td>\n",
       "      <td>00001201904120000001166</td>\n",
       "      <td>12/Apr/2019</td>\n",
       "      <td>12/Apr/2019</td>\n",
       "      <td>26/Apr/2019</td>\n",
       "      <td>A B C INDIA LIMITED</td>\n",
       "      <td>TL</td>\n",
       "      <td>11447</td>\n",
       "      <td>10,00,000</td>\n",
       "      <td>1</td>\n",
       "      <td>5899230</td>\n",
       "      <td>Paid</td>\n",
       "      <td>25/Apr/2019</td>\n",
       "      <td>BHARATIYA JANATA PARTY</td>\n",
       "      <td>*******8244</td>\n",
       "      <td>691</td>\n",
       "      <td>3300196</td>\n",
       "    </tr>\n",
       "    <tr>\n",
       "      <th>2</th>\n",
       "      <td>3</td>\n",
       "      <td>00001201904120000001166</td>\n",
       "      <td>12/Apr/2019</td>\n",
       "      <td>12/Apr/2019</td>\n",
       "      <td>26/Apr/2019</td>\n",
       "      <td>A B C INDIA LIMITED</td>\n",
       "      <td>TL</td>\n",
       "      <td>11441</td>\n",
       "      <td>10,00,000</td>\n",
       "      <td>1</td>\n",
       "      <td>5899230</td>\n",
       "      <td>Paid</td>\n",
       "      <td>25/Apr/2019</td>\n",
       "      <td>BHARATIYA JANATA PARTY</td>\n",
       "      <td>*******8244</td>\n",
       "      <td>691</td>\n",
       "      <td>3300196</td>\n",
       "    </tr>\n",
       "    <tr>\n",
       "      <th>3</th>\n",
       "      <td>4</td>\n",
       "      <td>00001201904120000001166</td>\n",
       "      <td>12/Apr/2019</td>\n",
       "      <td>12/Apr/2019</td>\n",
       "      <td>26/Apr/2019</td>\n",
       "      <td>A B C INDIA LIMITED</td>\n",
       "      <td>OL</td>\n",
       "      <td>1113</td>\n",
       "      <td>1,00,000</td>\n",
       "      <td>1</td>\n",
       "      <td>5899230</td>\n",
       "      <td>Paid</td>\n",
       "      <td>25/Apr/2019</td>\n",
       "      <td>BHARATIYA JANATA PARTY</td>\n",
       "      <td>*******8244</td>\n",
       "      <td>691</td>\n",
       "      <td>3300196</td>\n",
       "    </tr>\n",
       "    <tr>\n",
       "      <th>4</th>\n",
       "      <td>5</td>\n",
       "      <td>00001201904120000001166</td>\n",
       "      <td>12/Apr/2019</td>\n",
       "      <td>12/Apr/2019</td>\n",
       "      <td>26/Apr/2019</td>\n",
       "      <td>A B C INDIA LIMITED</td>\n",
       "      <td>OL</td>\n",
       "      <td>1118</td>\n",
       "      <td>1,00,000</td>\n",
       "      <td>1</td>\n",
       "      <td>5899230</td>\n",
       "      <td>Paid</td>\n",
       "      <td>25/Apr/2019</td>\n",
       "      <td>BHARATIYA JANATA PARTY</td>\n",
       "      <td>*******8244</td>\n",
       "      <td>691</td>\n",
       "      <td>3300196</td>\n",
       "    </tr>\n",
       "  </tbody>\n",
       "</table>\n",
       "</div>"
      ],
      "text/plain": [
       "   Sr No._x      Reference No  (URN) Journal Date Date of\\rPurchase  \\\n",
       "0         1  00001201904120000001166  12/Apr/2019       12/Apr/2019   \n",
       "1         2  00001201904120000001166  12/Apr/2019       12/Apr/2019   \n",
       "2         3  00001201904120000001166  12/Apr/2019       12/Apr/2019   \n",
       "3         4  00001201904120000001166  12/Apr/2019       12/Apr/2019   \n",
       "4         5  00001201904120000001166  12/Apr/2019       12/Apr/2019   \n",
       "\n",
       "  Date of Expiry Name of the Purchaser Prefix_x  Bond\\rNumber Denominations  \\\n",
       "0    26/Apr/2019   A B C INDIA LIMITED       TL         11448     10,00,000   \n",
       "1    26/Apr/2019   A B C INDIA LIMITED       TL         11447     10,00,000   \n",
       "2    26/Apr/2019   A B C INDIA LIMITED       TL         11441     10,00,000   \n",
       "3    26/Apr/2019   A B C INDIA LIMITED       OL          1113      1,00,000   \n",
       "4    26/Apr/2019   A B C INDIA LIMITED       OL          1118      1,00,000   \n",
       "\n",
       "   Issue Branch Code  Issue Teller Status Date of\\rEncashment  \\\n",
       "0                  1       5899230   Paid         25/Apr/2019   \n",
       "1                  1       5899230   Paid         25/Apr/2019   \n",
       "2                  1       5899230   Paid         25/Apr/2019   \n",
       "3                  1       5899230   Paid         25/Apr/2019   \n",
       "4                  1       5899230   Paid         25/Apr/2019   \n",
       "\n",
       "  Name of the Political Party Account no. of\\rPolitical Party  \\\n",
       "0      BHARATIYA JANATA PARTY                     *******8244   \n",
       "1      BHARATIYA JANATA PARTY                     *******8244   \n",
       "2      BHARATIYA JANATA PARTY                     *******8244   \n",
       "3      BHARATIYA JANATA PARTY                     *******8244   \n",
       "4      BHARATIYA JANATA PARTY                     *******8244   \n",
       "\n",
       "   Pay Branch\\rCode  Pay Teller  \n",
       "0               691     3300196  \n",
       "1               691     3300196  \n",
       "2               691     3300196  \n",
       "3               691     3300196  \n",
       "4               691     3300196  "
      ]
     },
     "execution_count": 6,
     "metadata": {},
     "output_type": "execute_result"
    }
   ],
   "source": [
    "# load the dataset\n",
    "df=pd.read_csv('Electoral Bonds.csv')\n",
    "df.head()"
   ]
  },
  {
   "cell_type": "code",
   "execution_count": 7,
   "id": "9fc6bfee-213c-4c09-94f7-88285e1581bd",
   "metadata": {},
   "outputs": [
    {
     "data": {
      "text/plain": [
       "Index(['Sr No._x', 'Reference No  (URN)', 'Journal Date', 'Date of\\rPurchase',\n",
       "       'Date of Expiry', 'Name of the Purchaser', 'Prefix_x', 'Bond\\rNumber',\n",
       "       'Denominations', 'Issue Branch Code', 'Issue Teller', 'Status',\n",
       "       'Date of\\rEncashment', 'Name of the Political Party',\n",
       "       'Account no. of\\rPolitical Party', 'Pay Branch\\rCode', 'Pay Teller'],\n",
       "      dtype='object')"
      ]
     },
     "execution_count": 7,
     "metadata": {},
     "output_type": "execute_result"
    }
   ],
   "source": [
    "# to know how many columns are there\n",
    "df.columns"
   ]
  },
  {
   "cell_type": "code",
   "execution_count": 8,
   "id": "ae132213-1a1a-41df-b0db-3c83ac596c63",
   "metadata": {},
   "outputs": [
    {
     "name": "stdout",
     "output_type": "stream",
     "text": [
      "<class 'pandas.core.frame.DataFrame'>\n",
      "RangeIndex: 18741 entries, 0 to 18740\n",
      "Data columns (total 17 columns):\n",
      " #   Column                          Non-Null Count  Dtype \n",
      "---  ------                          --------------  ----- \n",
      " 0   Sr No._x                        18741 non-null  int64 \n",
      " 1   Reference No  (URN)             18741 non-null  object\n",
      " 2   Journal Date                    18741 non-null  object\n",
      "Purchase                18741 non-null  object\n",
      " 4   Date of Expiry                  18741 non-null  object\n",
      " 5   Name of the Purchaser           18741 non-null  object\n",
      " 6   Prefix_x                        18741 non-null  object\n",
      "Number                     18741 non-null  int64 \n",
      " 8   Denominations                   18741 non-null  object\n",
      " 9   Issue Branch Code               18741 non-null  int64 \n",
      " 10  Issue Teller                    18741 non-null  int64 \n",
      " 11  Status                          18741 non-null  object\n",
      "Encashment              18741 non-null  object\n",
      " 13  Name of the Political Party     18741 non-null  object\n",
      "Political Party  18741 non-null  object\n",
      "Code                 18741 non-null  int64 \n",
      " 16  Pay Teller                      18741 non-null  int64 \n",
      "dtypes: int64(6), object(11)\n",
      "memory usage: 2.4+ MB\n"
     ]
    }
   ],
   "source": [
    "# to know the more information about the dataset like datatype ,null values ,column names etc\n",
    "df.info()"
   ]
  },
  {
   "cell_type": "code",
   "execution_count": 9,
   "id": "fc20fd40-0f2a-4180-8736-2b6d6965f668",
   "metadata": {},
   "outputs": [],
   "source": [
    "# remove unwanted columns from the dataset\n",
    "df.drop('Sr No._x',axis=1,inplace=True)"
   ]
  },
  {
   "cell_type": "code",
   "execution_count": 11,
   "id": "e73f9375-839a-4dce-a817-f8a0e66c0944",
   "metadata": {},
   "outputs": [],
   "source": [
    "# Rename the columns for the reference\n",
    "df.rename(columns={'Date of\\rPurchase':'Purchase Date',\n",
    "       'Date of Expiry':'Expiry Date', 'Name of the Purchaser':'Purchaser Name', 'Prefix_x':'Prefix', 'Bond\\rNumber':'Bond Number',\n",
    "       'Date of\\rEncashment':'Date of Encashment', 'Name of the Political Party':'Political Party',\n",
    "       'Account no. of\\rPolitical Party':'Political Party Account no.', 'Pay Branch\\rCode':'Pay Branch Code'},inplace=True)"
   ]
  },
  {
   "cell_type": "code",
   "execution_count": 12,
   "id": "521d4497-a70b-4e24-8aa2-de11626c3d6b",
   "metadata": {},
   "outputs": [
    {
     "name": "stdout",
     "output_type": "stream",
     "text": [
      "<class 'pandas.core.frame.DataFrame'>\n",
      "RangeIndex: 18741 entries, 0 to 18740\n",
      "Data columns (total 16 columns):\n",
      " #   Column                       Non-Null Count  Dtype \n",
      "---  ------                       --------------  ----- \n",
      " 0   Reference No  (URN)          18741 non-null  object\n",
      " 1   Journal Date                 18741 non-null  object\n",
      " 2   Purchase Date                18741 non-null  object\n",
      " 3   Expiry Date                  18741 non-null  object\n",
      " 4   Purchaser Name               18741 non-null  object\n",
      " 5   Prefix                       18741 non-null  object\n",
      " 6   Bond Number                  18741 non-null  int64 \n",
      " 7   Denominations                18741 non-null  object\n",
      " 8   Issue Branch Code            18741 non-null  int64 \n",
      " 9   Issue Teller                 18741 non-null  int64 \n",
      " 10  Status                       18741 non-null  object\n",
      " 11  Date of Encashment           18741 non-null  object\n",
      " 12  Political Party              18741 non-null  object\n",
      " 13  Political Party Account no.  18741 non-null  object\n",
      " 14  Pay Branch Code              18741 non-null  int64 \n",
      " 15  Pay Teller                   18741 non-null  int64 \n",
      "dtypes: int64(5), object(11)\n",
      "memory usage: 2.3+ MB\n"
     ]
    }
   ],
   "source": [
    "df.info()"
   ]
  },
  {
   "cell_type": "code",
   "execution_count": 18,
   "id": "0f9b285d-155e-4fcd-a0ec-e0721a23c3bd",
   "metadata": {},
   "outputs": [
    {
     "data": {
      "text/plain": [
       "Index(['Reference No  (URN)', 'Journal Date', 'Purchase Date', 'Expiry Date',\n",
       "       'Purchaser Name', 'Prefix', 'Bond Number', 'Denominations',\n",
       "       'Issue Branch Code', 'Issue Teller', 'Status', 'Date of Encashment',\n",
       "       'Political Party', 'Political Party Account no.', 'Pay Branch Code',\n",
       "       'Pay Teller'],\n",
       "      dtype='object')"
      ]
     },
     "execution_count": 18,
     "metadata": {},
     "output_type": "execute_result"
    }
   ],
   "source": [
    "df.columns"
   ]
  },
  {
   "cell_type": "code",
   "execution_count": 27,
   "id": "7e1c2511-0b47-4ea4-a0cd-d1cfffc01335",
   "metadata": {},
   "outputs": [],
   "source": [
    "df.to_csv('Electoral Bonds clean.csv',index=False)"
   ]
  },
  {
   "cell_type": "code",
   "execution_count": null,
   "id": "26a3b54f-c536-410a-abb0-e24ebb07a9df",
   "metadata": {},
   "outputs": [],
   "source": []
  }
 ],
 "metadata": {
  "kernelspec": {
   "display_name": "Python 3 (ipykernel)",
   "language": "python",
   "name": "python3"
  },
  "language_info": {
   "codemirror_mode": {
    "name": "ipython",
    "version": 3
   },
   "file_extension": ".py",
   "mimetype": "text/x-python",
   "name": "python",
   "nbconvert_exporter": "python",
   "pygments_lexer": "ipython3",
   "version": "3.11.5"
  }
 },
 "nbformat": 4,
 "nbformat_minor": 5
}
